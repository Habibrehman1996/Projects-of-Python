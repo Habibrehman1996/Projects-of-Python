{
  "nbformat": 4,
  "nbformat_minor": 0,
  "metadata": {
    "colab": {
      "provenance": [],
      "authorship_tag": "ABX9TyPJdlDfmKx/Xev8csACgeKj",
      "include_colab_link": true
    },
    "kernelspec": {
      "name": "python3",
      "display_name": "Python 3"
    },
    "language_info": {
      "name": "python"
    }
  },
  "cells": [
    {
      "cell_type": "markdown",
      "metadata": {
        "id": "view-in-github",
        "colab_type": "text"
      },
      "source": [
        "<a href=\"https://colab.research.google.com/github/Habibrehman1996/Projects-of-Python/blob/main/Projects.ipynb\" target=\"_parent\"><img src=\"https://colab.research.google.com/assets/colab-badge.svg\" alt=\"Open In Colab\"/></a>"
      ]
    },
    {
      "cell_type": "markdown",
      "source": [
        "##1.jokebot\n",
        "\n",
        "Here is a joke for you! Panaversity GPT - Sophia is heading out to the grocery store. A programmer tells her: get a liter of milk, and if they have eggs, get 12. Sophia returns with 13 liters of milk. The programmer asks why and Sophia replies: 'because they had eggs'\n",
        "\n",
        "If the user enters anything else we print out:\n",
        "\n",
        "Sorry I only tell jokes\n",
        "\n",
        "You should use the three constants:\n",
        "\n",
        "PROMPT JOKE SORRY\n",
        "\n",
        "which contain the strings for the prompt asked to the user, the joke to print out if the user enters Joke and the sorry message if the user enters anything else.\n",
        "\n",
        "Your program will need to use an if statement which checks if the user input is Joke:\n",
        "\n",
        "if user_input == \"Joke\":\n",
        "\n",
        "Recall that == is a comparison which tests if two values are equal to one another.\n",
        "\n",
        "Here is a full run of the program (user input is in blue):\n",
        "\n",
        "What do you want? Joke Here is a joke for you! Panaversity GPT - Sophia is heading out to the grocery store. A programmer tells her: get a liter of milk, and if they have eggs, get 12. Sophia returns with 13 liters of milk. The programmer asks why and Sophia replies: 'because they had eggs'"
      ],
      "metadata": {
        "id": "QvNcjaKDuYS7"
      }
    },
    {
      "cell_type": "code",
      "execution_count": null,
      "metadata": {
        "colab": {
          "base_uri": "https://localhost:8080/"
        },
        "id": "aXTJGmOpty9c",
        "outputId": "2248023e-9184-43cc-92c7-8d9eb5974d35"
      },
      "outputs": [
        {
          "output_type": "stream",
          "name": "stdout",
          "text": [
            "What do you want? Joke\n",
            "Here is a joke for you! Panaversity GPT - Sophia is heading out to the grocery store. A programmer tells her: get a liter of milk, and if they have eggs, get 12. Sophia returns with 13 liters of milk. The programmer asks why and Sophia replies: 'because they had eggs'\n"
          ]
        }
      ],
      "source": [
        "\n",
        "\n",
        "PROMPT:str = \"What do you want? \"\n",
        "JOKE:str = \"Here is a joke for you! Panaversity GPT - Sophia is heading out to the grocery store. A programmer tells her: get a liter of milk, and if they have eggs, get 12. Sophia returns with 13 liters of milk. The programmer asks why and Sophia replies: 'because they had eggs'\"\n",
        "SORRY:str = \"Sorry I only tell jokes\"\n",
        "\n",
        "user_input = input(PROMPT)\n",
        "\n",
        "if user_input.lower() == \"joke\":\n",
        "  print(JOKE)\n",
        "\n",
        "else:\n",
        "  print(SORRY)"
      ]
    },
    {
      "cell_type": "markdown",
      "source": [
        "##2.Double it\n",
        "Write a program that asks a user to enter a number. Your program will then double that number and print out the result. It will repeat that process until the value is 100 or greater.\n",
        "\n",
        "For example if the user enters the number 2 you would then print:\n",
        "\n",
        "4 8 16 32 64 128\n",
        "\n",
        "Note that:\n",
        "\n",
        "2 doubled is 4\n",
        "\n",
        "4 doubled is 8\n",
        "\n",
        "8 doubled is 16\n",
        "\n",
        "and so on.\n",
        "\n",
        "We stop at 128 because that value is greater than 100.\n",
        "\n",
        "Maintain the current number in a variable named curr_value. When you double the number, you should be updating curr_value. Recall that you can double the value of curr_value using a line like:\n",
        "\n",
        "curr_value = curr_value * 2\n",
        "\n",
        "This program should have a while loop and the while loop condition should test if curr_value is less than 100. Thus, your program will have the line:\n",
        "\n",
        "while curr_value < 100:"
      ],
      "metadata": {
        "id": "vbjdlzuHyUss"
      }
    },
    {
      "cell_type": "code",
      "source": [
        "def double_it():\n",
        "  user_input = int(input(\"Enter a number: \"))\n",
        "\n",
        "  while user_input < 100:\n",
        "    user_input = user_input * 2\n",
        "    print(user_input, end=\" \")\n",
        "double_it()"
      ],
      "metadata": {
        "colab": {
          "base_uri": "https://localhost:8080/"
        },
        "id": "422PldW0yp6e",
        "outputId": "0369f4a6-93cb-43b0-bcb3-6324768fda6b"
      },
      "execution_count": null,
      "outputs": [
        {
          "output_type": "stream",
          "name": "stdout",
          "text": [
            "Enter a number: 4\n",
            "8 16 32 64 128 "
          ]
        }
      ]
    },
    {
      "cell_type": "markdown",
      "source": [
        "##3.Liftloff\n",
        "Write a program that prints out the calls for a spaceship that is about to launch. Countdown from 10 to 1 and then output Liftoff!\n",
        "\n",
        "Here's a sample run of the program:\n",
        "\n",
        "10 9 8 7 6 5 4 3 2 1 Liftoff!\n",
        "\n",
        "There are many ways to solve this problem. One approach is to use a for loop, and to use the for loop variable i. Recall that i will keep track of how many times the for loop has completed executing its body. As an example this code:\n",
        "\n",
        "for i in range(10): print(i)\n",
        "\n",
        "Will print out the values 0, 1, 2, 3, 4, 5, 6, 7, 8, 9. The values printed in liftoff are 10 minus the number of times the for loop has completed."
      ],
      "metadata": {
        "id": "qs0VazT20paj"
      }
    },
    {
      "cell_type": "code",
      "source": [
        "#1. loop : for\n",
        "#list or range\n",
        "def coundown():\n",
        "  for i in range(10, 0, -1):\n",
        "    print(i, end=\" \")\n",
        "  print(\"Liftoff!\")\n",
        "coundown()\n"
      ],
      "metadata": {
        "colab": {
          "base_uri": "https://localhost:8080/"
        },
        "id": "5w-xpmc61qg_",
        "outputId": "93e0e743-efe0-4619-8dd9-e123caa31164"
      },
      "execution_count": null,
      "outputs": [
        {
          "output_type": "stream",
          "name": "stdout",
          "text": [
            "10 9 8 7 6 5 4 3 2 1 Liftoff!\n"
          ]
        }
      ]
    },
    {
      "cell_type": "markdown",
      "source": [
        "##4.Guess My Number:\n",
        "\n",
        "\n",
        "I am thinking of a number between 0 and 99... Enter a guess: 50 Your guess is too high\n",
        "\n",
        "Enter a new number: 25 Your guess is too low\n",
        "\n",
        "Enter a new number: 40 Your guess is too low\n",
        "\n",
        "Enter a new number: 45 Your guess is too low\n",
        "\n",
        "Enter a new number: 48 Congrats! The number was: 48"
      ],
      "metadata": {
        "id": "kzq35PvI21Vy"
      }
    },
    {
      "cell_type": "code",
      "source": [
        "import random\n",
        "\n",
        "number = random.randint(1, 9)\n",
        "allowed_attempts = 3\n",
        "user_attempt = 0\n",
        "\n",
        "while user_attempt < allowed_attempts:\n",
        "    print(f\"Attempts left: {allowed_attempts - user_attempt}\")\n",
        "\n",
        "    # Get user number\n",
        "    try:\n",
        "        user_input = int(input(\"Enter a number between 1 and 9: \"))\n",
        "    except ValueError:\n",
        "        print(\"Invalid input, please enter a number.\")\n",
        "        continue  # Skip the rest of the loop and prompt again\n",
        "\n",
        "    user_attempt += 1\n",
        "\n",
        "    if user_input == number:\n",
        "        print(\"Congrats! The number was:\", number)\n",
        "        break\n",
        "    elif user_input < number:\n",
        "        print(\"Your guess is too low\")\n",
        "    else:\n",
        "        print(\"Your guess is too high\")\n",
        "\n",
        "    if user_attempt == allowed_attempts:\n",
        "        print(\"Game Over. The correct number was:\", number)\n"
      ],
      "metadata": {
        "colab": {
          "base_uri": "https://localhost:8080/"
        },
        "id": "L-OykMYM2V7l",
        "outputId": "cc3fba8b-b548-4aee-aaa9-624c8fb9a27e"
      },
      "execution_count": null,
      "outputs": [
        {
          "output_type": "stream",
          "name": "stdout",
          "text": [
            "Attempts left: 3\n",
            "Enter a number between 1 and 9: 4\n",
            "Your guess is too low\n",
            "Attempts left: 2\n",
            "Enter a number between 1 and 9: 7\n",
            "Congrats! The number was: 7\n"
          ]
        }
      ]
    },
    {
      "cell_type": "markdown",
      "source": [
        "##5.Random Numbers\n",
        "Print 10 random numbers in the range 1 to 100.\n",
        "\n",
        "Here is an example run:\n",
        "\n",
        "45 79 61 47 52 10 16 83 19 12\n",
        "\n",
        "Each time you run your program you should get different numbers\n",
        "\n",
        "81 76 70 1 27 63 96 100 32 92\n",
        "\n",
        "Recall that the python random library has a function randint which returns an integer in the range set by the parameters (inclusive). For example this call would produce a random integer between 1 and 6, which could include 1 and could include 6:\n",
        "\n",
        "value = random.randint(1, 6)"
      ],
      "metadata": {
        "id": "vAf5lCGCNHT1"
      }
    },
    {
      "cell_type": "code",
      "source": [
        "import random\n",
        "MIN_NUM:int = 1\n",
        "MAX_NUM:int = 100\n",
        "N_RANDOM_NUMBERS:int = 10\n",
        "#Function\n",
        "#1. use for loop\n",
        "number_list =[]\n",
        "for i in range(N_RANDOM_NUMBERS):\n",
        "  random_number = random.randint(MIN_NUM, MAX_NUM)\n",
        "  number_list.append(random_number)\n",
        "  #print(random_number, end=\" \")"
      ],
      "metadata": {
        "id": "3qb9H4ZFLsUQ"
      },
      "execution_count": 25,
      "outputs": []
    },
    {
      "cell_type": "code",
      "source": [
        "print(*number_list)"
      ],
      "metadata": {
        "colab": {
          "base_uri": "https://localhost:8080/"
        },
        "id": "x2TFu_8VQ65S",
        "outputId": "5c1379f2-6fae-4a5b-dd27-63d5e95bb25a"
      },
      "execution_count": 29,
      "outputs": [
        {
          "output_type": "stream",
          "name": "stdout",
          "text": [
            "96 25 65 50 30 57 93 92 92 45\n"
          ]
        }
      ]
    },
    {
      "cell_type": "code",
      "source": [
        "MIN_NUM:int = 1\n",
        "MAX_NUM:int = 100\n",
        "N_RANDOM_NUMBERS:int = 10\n",
        "\n",
        "import numpy as np\n",
        "random_numbers = np.random.randint(MIN_NUM, MAX_NUM + 1, N_RANDOM_NUMBERS)\n",
        "print(*random_numbers)"
      ],
      "metadata": {
        "colab": {
          "base_uri": "https://localhost:8080/"
        },
        "id": "HGjutemcRwxp",
        "outputId": "430d2412-8002-4eb1-bbea-c83e0ce5f455"
      },
      "execution_count": 36,
      "outputs": [
        {
          "output_type": "stream",
          "name": "stdout",
          "text": [
            "41 41 7 61 97 30 56 20 37 1\n"
          ]
        }
      ]
    },
    {
      "cell_type": "markdown",
      "source": [
        "##Planetary WeightsDownload Project\n"
      ],
      "metadata": {
        "id": "lTVlm1wtT8T_"
      }
    },
    {
      "cell_type": "code",
      "source": [
        "\"\"\"\n",
        "Prompts the user for a weight on Earth\n",
        "and a planet (in separate inputs). Then\n",
        "prints the equivalent weight on that planet.\n",
        "\n",
        "Note that the user should type in a planet with\n",
        "the first letter as uppercase, and you do not need\n",
        "to handle the case where a user types in something\n",
        "other than one of the planets (that is not Earth).\n",
        "\"\"\"\n",
        "\n",
        "\n",
        "# Mars Weight\n",
        "MARS_CONSTANT:float = 0.378\n",
        "# Jupiter Weight\n",
        "JUPITER_CONSTANT:float = 2.36\n",
        "# Saturn Weight\n",
        "SATURN_CONSTANT:float = 0.916\n",
        "# Mercury Weight\n",
        "MERCURY_CONSTANT:float = 0.377\n",
        "# Venus Weight\n",
        "VENUS_CONSTANT:float = 0.907\n"
      ],
      "metadata": {
        "id": "Vnb6s3HHT4-j"
      },
      "execution_count": 37,
      "outputs": []
    },
    {
      "cell_type": "code",
      "source": [
        "def get_planet_weight():\n",
        "  user_weight:float = float(input(\"Enter your weight: \"))\n",
        "  # Get Planet namew\n",
        "  planet_name:str = input(\"Enter planet name: \")\n",
        "\n",
        "  if planet_name == \"Mars\":\n",
        "    mars_weight = round((user_weight * MARS_CONSTANT) ,2)\n",
        "\n",
        "  elif planet_name == \"Jupiter\":\n",
        "    mars_weight = round((user_weight * JUPITER_CONSTANT) ,2)\n",
        "\n",
        "  elif planet_name == \"Saturn\":\n",
        "    mars_weight = round((user_weight * SATURN_CONSTANT) ,2)\n",
        "\n",
        "  elif planet_name == \"Mercury\":\n",
        "    mars_weight = round((user_weight * MERCURY_CONSTANT) ,2)\n",
        "  elif planet_name == \"Venus\":\n",
        "    mars_weight = round((user_weight * VENUS_CONSTANT) ,2)\n",
        "\n",
        "  #milestone 2:\n",
        "  mars_weight = round((user_weight * MARS_CONSTANT) ,2)\n",
        "\n",
        "  return f\"Your weight on {planet_name} is {mars_weight}\"\n"
      ],
      "metadata": {
        "id": "I44wQkwAUqLE"
      },
      "execution_count": 51,
      "outputs": []
    },
    {
      "cell_type": "code",
      "source": [
        "my_weight = get_planet_weight()\n",
        "print(my_weight)"
      ],
      "metadata": {
        "id": "V0QjO7grX5L8",
        "outputId": "f11b6199-ba42-4133-cbd6-8422bfb8f1b8",
        "colab": {
          "base_uri": "https://localhost:8080/"
        }
      },
      "execution_count": 52,
      "outputs": [
        {
          "output_type": "stream",
          "name": "stdout",
          "text": [
            "Enter your weight: 66\n",
            "Enter planet name: jupiter\n",
            "Your weight on jupiter is 24.95\n"
          ]
        }
      ]
    }
  ]
}